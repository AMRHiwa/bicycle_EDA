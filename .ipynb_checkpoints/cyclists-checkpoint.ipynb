{
 "cells": [
  {
   "cell_type": "markdown",
   "metadata": {
    "id": "u-gqak6jnLi2"
   },
   "source": [
    "<h1 align = center-style: 200%; font-family: vazir; color:#0099cc \">\n",
    "<font face = \"vazir\" color = \"#0099cc\">\n",
    "bike riders\n",
    "</font>\n",
    "</h1>\n",
    "<p dir = LTR style = \"Direction: LTR; Text-Align: Justim; Line-Height: 200%; Font-Family: Vazir; Font-Size: Medium\">\n",
    "<font face = \"vazir\" size = 3>\n",
    "Cyclists (🚴) are very sensitive to temperature.The temperature that cyclists feel is usually directly related to wind speeds and humidity.\n",
    "In this exercise, we have a set of data related to this issue and we intend to analyze it.\n",
    "</font>\n",
    "</p>"
   ]
  },
  {
   "cell_type": "markdown",
   "metadata": {
    "id": "4ble8cLWnLi4"
   },
   "source": [
    "<h2 align = left style = \"line-height: 200%; font-family: vazir; color:#0099cc\">\n",
    "<font face = \"vazir\" color = \"#0099cc\">\n",
    "Data collection\n",
    "</font>\n",
    "</h2>\n",
    "\n",
    "<p dir = RTL style = \"Direction: LTR; Text-Align: Justim; Line-Height: 200%; Font-Family: Vazir; Font-Size: Medium\">\n",
    "<font face = \"vazir\" size = 3>\n",
    "In the <code>bikes_borrowed.csv</code> file, the information of bicycles rented in a city on that day is stored. The columns of this collection are explained in the table below. This set is downloaded from the file and stored in the <code>df</code> database.\n",
    "</font>\n",
    "</p>\n",
    "\n",
    "\n",
    "<center>\n",
    "<div dir = LTR style = \"Direction: LTR; Line-Height: 200%; font-Family: vazir; font-size: medium\">\n",
    "<font face = \"vazir\" size = 3>\n",
    "\n",
    "|<b> Group Number </b> |<b> Description </b> |\n",
    "| --- | --- |\n",
    "|<code> CNT </code> |Number of rented bicycles per day|\n",
    "|<code> T1 </code> |The actual temperature measured that day|\n",
    "|<code> T2 </code> |The average temperature that cyclists feel|\n",
    "|<code> Humidity </COD> |Air moisture on that day|\n",
    "|<code> Wind_Speed </COD> |Wind speed on that day|\n",
    "|<code> is_weekend </code> |Is it a non -working day (weekend)|\n",
    "|<code> Season </code> |Many Season of the Year |\n",
    "|<code> Cloud </COD> |Is the weather cloudy on that day\n",
    "\n",
    "</font>\n",
    "</ div>\n",
    "</set>"
   ]
  },
  {
   "cell_type": "code",
   "execution_count": 1,
   "metadata": {
    "id": "wch4VtDsnLi5"
   },
   "outputs": [
    {
     "data": {
      "text/html": [
       "<div>\n",
       "<style scoped>\n",
       "    .dataframe tbody tr th:only-of-type {\n",
       "        vertical-align: middle;\n",
       "    }\n",
       "\n",
       "    .dataframe tbody tr th {\n",
       "        vertical-align: top;\n",
       "    }\n",
       "\n",
       "    .dataframe thead th {\n",
       "        text-align: right;\n",
       "    }\n",
       "</style>\n",
       "<table border=\"1\" class=\"dataframe\">\n",
       "  <thead>\n",
       "    <tr style=\"text-align: right;\">\n",
       "      <th></th>\n",
       "      <th>cnt</th>\n",
       "      <th>t1</th>\n",
       "      <th>t2</th>\n",
       "      <th>humidity</th>\n",
       "      <th>wind_speed</th>\n",
       "      <th>is_weekend</th>\n",
       "      <th>season</th>\n",
       "      <th>cloud</th>\n",
       "    </tr>\n",
       "  </thead>\n",
       "  <tbody>\n",
       "    <tr>\n",
       "      <th>0</th>\n",
       "      <td>182</td>\n",
       "      <td>3.0</td>\n",
       "      <td>2.0</td>\n",
       "      <td>93.0</td>\n",
       "      <td>6.0</td>\n",
       "      <td>1</td>\n",
       "      <td>3</td>\n",
       "      <td>0.0</td>\n",
       "    </tr>\n",
       "    <tr>\n",
       "      <th>1</th>\n",
       "      <td>138</td>\n",
       "      <td>3.0</td>\n",
       "      <td>2.5</td>\n",
       "      <td>93.0</td>\n",
       "      <td>5.0</td>\n",
       "      <td>1</td>\n",
       "      <td>3</td>\n",
       "      <td>NaN</td>\n",
       "    </tr>\n",
       "    <tr>\n",
       "      <th>2</th>\n",
       "      <td>134</td>\n",
       "      <td>2.5</td>\n",
       "      <td>2.5</td>\n",
       "      <td>96.5</td>\n",
       "      <td>0.0</td>\n",
       "      <td>1</td>\n",
       "      <td>3</td>\n",
       "      <td>NaN</td>\n",
       "    </tr>\n",
       "    <tr>\n",
       "      <th>3</th>\n",
       "      <td>72</td>\n",
       "      <td>2.0</td>\n",
       "      <td>2.0</td>\n",
       "      <td>100.0</td>\n",
       "      <td>0.0</td>\n",
       "      <td>1</td>\n",
       "      <td>3</td>\n",
       "      <td>1.0</td>\n",
       "    </tr>\n",
       "    <tr>\n",
       "      <th>4</th>\n",
       "      <td>47</td>\n",
       "      <td>2.0</td>\n",
       "      <td>0.0</td>\n",
       "      <td>93.0</td>\n",
       "      <td>6.5</td>\n",
       "      <td>1</td>\n",
       "      <td>3</td>\n",
       "      <td>NaN</td>\n",
       "    </tr>\n",
       "  </tbody>\n",
       "</table>\n",
       "</div>"
      ],
      "text/plain": [
       "   cnt   t1   t2  humidity  wind_speed  is_weekend  season  cloud\n",
       "0  182  3.0  2.0      93.0         6.0           1       3    0.0\n",
       "1  138  3.0  2.5      93.0         5.0           1       3    NaN\n",
       "2  134  2.5  2.5      96.5         0.0           1       3    NaN\n",
       "3   72  2.0  2.0     100.0         0.0           1       3    1.0\n",
       "4   47  2.0  0.0      93.0         6.5           1       3    NaN"
      ]
     },
     "execution_count": 1,
     "metadata": {},
     "output_type": "execute_result"
    }
   ],
   "source": [
    "import pandas as pd\n",
    "import numpy as np\n",
    "from numpy import nan as NA\n",
    "\n",
    "df = pd.read_csv('bikes_borrowed.csv')\n",
    "df.head()"
   ]
  },
  {
   "cell_type": "code",
   "execution_count": 2,
   "metadata": {},
   "outputs": [
    {
     "name": "stdout",
     "output_type": "stream",
     "text": [
      "<class 'pandas.core.frame.DataFrame'>\n",
      "RangeIndex: 17414 entries, 0 to 17413\n",
      "Data columns (total 8 columns):\n",
      " #   Column      Non-Null Count  Dtype  \n",
      "---  ------      --------------  -----  \n",
      " 0   cnt         17414 non-null  int64  \n",
      " 1   t1          17409 non-null  float64\n",
      " 2   t2          17409 non-null  float64\n",
      " 3   humidity    15694 non-null  float64\n",
      " 4   wind_speed  17409 non-null  float64\n",
      " 5   is_weekend  17414 non-null  int64  \n",
      " 6   season      17414 non-null  int64  \n",
      " 7   cloud       889 non-null    float64\n",
      "dtypes: float64(5), int64(3)\n",
      "memory usage: 1.1 MB\n"
     ]
    }
   ],
   "source": [
    "df.info()"
   ]
  },
  {
   "cell_type": "markdown",
   "metadata": {
    "id": "QGuk2blfuZva"
   },
   "source": [
    "<h2 align = center-style: 200%; font-family: vazir; color:#0099cc \">\n",
    "<font face = \"vazir\" color = \"#0099cc\">\n",
    "Missing values\n",
    "</font>\n",
    "</h2>\n",
    "\n",
    "\n",
    "<p dir = \"LTR style =\" Direction: LTR; text-align: justify; line-height: 200%; font-font: vazir; font-size: medium \">\n",
    "<font face = \"vazir\" size = 3>\n",
    "As it is clear from the first rows of dataphia, this set contains a number of lost values.In this section we try to manage these lost values in different ways.\n",
    "<br>\n",
    "First, check that a few percent of the values of each column are missing.If many of the values of a lost column are probably, that column will probably not provide us with much information, so we can delete it in general.\n",
    "</font>\n",
    "</p>"
   ]
  },
  {
   "cell_type": "code",
   "execution_count": 3,
   "metadata": {
    "id": "YsLFjunFu5mC"
   },
   "outputs": [
    {
     "name": "stdout",
     "output_type": "stream",
     "text": [
      "cnt           0.000000\n",
      "t1            0.000287\n",
      "t2            0.000287\n",
      "humidity      0.098771\n",
      "wind_speed    0.000287\n",
      "is_weekend    0.000000\n",
      "season        0.000000\n",
      "cloud         0.948949\n",
      "dtype: float64\n"
     ]
    }
   ],
   "source": [
    "missing_percentages = df.isnull().mean() \n",
    "print(missing_percentages)"
   ]
  },
  {
   "cell_type": "markdown",
   "metadata": {
    "id": "49aps_hczBGu"
   },
   "source": [
    "<p dir = \"LTR style =\" Direction: LTR; text-align: justify; line-height: 200%; font-font: vazir; font-size: medium \">\n",
    "<font face = \"vazir\" size = 3>\n",
    "Now the column whose number of lost values is very high\n",
    "(More than 9 %)\n",
    "Remove.\n",
    "</font>\n",
    "</p>"
   ]
  },
  {
   "cell_type": "code",
   "execution_count": 4,
   "metadata": {},
   "outputs": [
    {
     "data": {
      "text/plain": [
       "cnt           False\n",
       "t1            False\n",
       "t2            False\n",
       "humidity      False\n",
       "wind_speed    False\n",
       "is_weekend    False\n",
       "season        False\n",
       "cloud          True\n",
       "dtype: bool"
      ]
     },
     "execution_count": 4,
     "metadata": {},
     "output_type": "execute_result"
    }
   ],
   "source": [
    "df.isnull().mean() > .9"
   ]
  },
  {
   "cell_type": "code",
   "execution_count": 5,
   "metadata": {
    "id": "kbZsk2s5zjzO"
   },
   "outputs": [
    {
     "data": {
      "text/html": [
       "<div>\n",
       "<style scoped>\n",
       "    .dataframe tbody tr th:only-of-type {\n",
       "        vertical-align: middle;\n",
       "    }\n",
       "\n",
       "    .dataframe tbody tr th {\n",
       "        vertical-align: top;\n",
       "    }\n",
       "\n",
       "    .dataframe thead th {\n",
       "        text-align: right;\n",
       "    }\n",
       "</style>\n",
       "<table border=\"1\" class=\"dataframe\">\n",
       "  <thead>\n",
       "    <tr style=\"text-align: right;\">\n",
       "      <th></th>\n",
       "      <th>cnt</th>\n",
       "      <th>t1</th>\n",
       "      <th>t2</th>\n",
       "      <th>humidity</th>\n",
       "      <th>wind_speed</th>\n",
       "      <th>is_weekend</th>\n",
       "      <th>season</th>\n",
       "    </tr>\n",
       "  </thead>\n",
       "  <tbody>\n",
       "    <tr>\n",
       "      <th>0</th>\n",
       "      <td>182</td>\n",
       "      <td>3.0</td>\n",
       "      <td>2.0</td>\n",
       "      <td>93.0</td>\n",
       "      <td>6.0</td>\n",
       "      <td>1</td>\n",
       "      <td>3</td>\n",
       "    </tr>\n",
       "    <tr>\n",
       "      <th>1</th>\n",
       "      <td>138</td>\n",
       "      <td>3.0</td>\n",
       "      <td>2.5</td>\n",
       "      <td>93.0</td>\n",
       "      <td>5.0</td>\n",
       "      <td>1</td>\n",
       "      <td>3</td>\n",
       "    </tr>\n",
       "    <tr>\n",
       "      <th>2</th>\n",
       "      <td>134</td>\n",
       "      <td>2.5</td>\n",
       "      <td>2.5</td>\n",
       "      <td>96.5</td>\n",
       "      <td>0.0</td>\n",
       "      <td>1</td>\n",
       "      <td>3</td>\n",
       "    </tr>\n",
       "    <tr>\n",
       "      <th>3</th>\n",
       "      <td>72</td>\n",
       "      <td>2.0</td>\n",
       "      <td>2.0</td>\n",
       "      <td>100.0</td>\n",
       "      <td>0.0</td>\n",
       "      <td>1</td>\n",
       "      <td>3</td>\n",
       "    </tr>\n",
       "    <tr>\n",
       "      <th>4</th>\n",
       "      <td>47</td>\n",
       "      <td>2.0</td>\n",
       "      <td>0.0</td>\n",
       "      <td>93.0</td>\n",
       "      <td>6.5</td>\n",
       "      <td>1</td>\n",
       "      <td>3</td>\n",
       "    </tr>\n",
       "  </tbody>\n",
       "</table>\n",
       "</div>"
      ],
      "text/plain": [
       "   cnt   t1   t2  humidity  wind_speed  is_weekend  season\n",
       "0  182  3.0  2.0      93.0         6.0           1       3\n",
       "1  138  3.0  2.5      93.0         5.0           1       3\n",
       "2  134  2.5  2.5      96.5         0.0           1       3\n",
       "3   72  2.0  2.0     100.0         0.0           1       3\n",
       "4   47  2.0  0.0      93.0         6.5           1       3"
      ]
     },
     "execution_count": 5,
     "metadata": {},
     "output_type": "execute_result"
    }
   ],
   "source": [
    "df.drop(missing_percentages[missing_percentages > .9].index, axis=1 , inplace=True)\n",
    "\n",
    "df.head()"
   ]
  },
  {
   "cell_type": "markdown",
   "metadata": {
    "id": "sENXtyA80-Z-"
   },
   "source": [
    "<p dir = LTR style = \"Direction: LTR; Text-Align: Justim; Line-Height: 200%; Font-Family: Vazir; Font-Size: Medium\">\n",
    "<font face = \"vazir\" size = 3>\n",
    "Now, according to the calculation of the percentage of lost values in each column, we know that the column\n",
    "<code>Humidity</code> It also has a significant number of lost values.To solve this problem, we want these values with an average value <code> Humidity </code> Replace.\n",
    "<br>\n",
    "</font>\n",
    "</p>"
   ]
  },
  {
   "cell_type": "code",
   "execution_count": 6,
   "metadata": {
    "id": "-PiuTOaY0-x1"
   },
   "outputs": [
    {
     "name": "stdout",
     "output_type": "stream",
     "text": [
      "mean: 72\n"
     ]
    }
   ],
   "source": [
    "mean = df['humidity'].mean()\n",
    "print(f\"mean: {int(mean)}\")\n",
    "df.humidity.fillna(mean.astype('int'), inplace= True)"
   ]
  },
  {
   "cell_type": "code",
   "execution_count": 7,
   "metadata": {},
   "outputs": [
    {
     "data": {
      "text/plain": [
       "0"
      ]
     },
     "execution_count": 7,
     "metadata": {},
     "output_type": "execute_result"
    }
   ],
   "source": [
    "df.humidity.isnull().sum()"
   ]
  },
  {
   "cell_type": "markdown",
   "metadata": {
    "id": "T6OwONXC2n0q"
   },
   "source": [
    "<p dir = \"LTR style =\" Direction: LTR; text-align: justify; line-height: 200%; font-font: vazir; font-size: medium \">\n",
    "<font face = \"vazir\" size = 3>\n",
    "Finally, given that the rest of the columns have a very small amount of lost values, we remove all samples/rows that are still lost.\n",
    "</font>\n",
    "</p>"
   ]
  },
  {
   "cell_type": "code",
   "execution_count": 8,
   "metadata": {
    "id": "aiRgupnp3IDh"
   },
   "outputs": [],
   "source": [
    "df.dropna(inplace=True)"
   ]
  },
  {
   "cell_type": "code",
   "execution_count": 9,
   "metadata": {},
   "outputs": [
    {
     "data": {
      "text/plain": [
       "cnt           0\n",
       "t1            0\n",
       "t2            0\n",
       "humidity      0\n",
       "wind_speed    0\n",
       "is_weekend    0\n",
       "season        0\n",
       "dtype: int64"
      ]
     },
     "execution_count": 9,
     "metadata": {},
     "output_type": "execute_result"
    }
   ],
   "source": [
    "df.isnull().sum()"
   ]
  },
  {
   "cell_type": "markdown",
   "metadata": {
    "id": "oDDqkYmj33Lx"
   },
   "source": [
    "<p dir = \"LTR style =\" Direction: LTR; text-align: justify; line-height: 200%; font-font: vazir; font-size: medium \">\n",
    "<font face = \"vazir\" size = 3>\n",
    "    As you can see, the names of <code> T1 </code> and <code> t2 </code> are very general and do not mean their value, so it is good to change their names.\n",
    "<br>\n",
    "    In the following cell, change the name of <code> t1 </code> to <code> t_real </code> and the name of the <code> t2 </code> column name to <code> t_feels_like </code>.\n",
    "</font>\n",
    "</p>"
   ]
  },
  {
   "cell_type": "code",
   "execution_count": 10,
   "metadata": {
    "id": "j78mnKV_33h6"
   },
   "outputs": [
    {
     "data": {
      "text/html": [
       "<div>\n",
       "<style scoped>\n",
       "    .dataframe tbody tr th:only-of-type {\n",
       "        vertical-align: middle;\n",
       "    }\n",
       "\n",
       "    .dataframe tbody tr th {\n",
       "        vertical-align: top;\n",
       "    }\n",
       "\n",
       "    .dataframe thead th {\n",
       "        text-align: right;\n",
       "    }\n",
       "</style>\n",
       "<table border=\"1\" class=\"dataframe\">\n",
       "  <thead>\n",
       "    <tr style=\"text-align: right;\">\n",
       "      <th></th>\n",
       "      <th>cnt</th>\n",
       "      <th>t_real</th>\n",
       "      <th>t_feels_like</th>\n",
       "      <th>humidity</th>\n",
       "      <th>wind_speed</th>\n",
       "      <th>is_weekend</th>\n",
       "      <th>season</th>\n",
       "    </tr>\n",
       "  </thead>\n",
       "  <tbody>\n",
       "    <tr>\n",
       "      <th>0</th>\n",
       "      <td>182</td>\n",
       "      <td>3.0</td>\n",
       "      <td>2.0</td>\n",
       "      <td>93.0</td>\n",
       "      <td>6.0</td>\n",
       "      <td>1</td>\n",
       "      <td>3</td>\n",
       "    </tr>\n",
       "    <tr>\n",
       "      <th>1</th>\n",
       "      <td>138</td>\n",
       "      <td>3.0</td>\n",
       "      <td>2.5</td>\n",
       "      <td>93.0</td>\n",
       "      <td>5.0</td>\n",
       "      <td>1</td>\n",
       "      <td>3</td>\n",
       "    </tr>\n",
       "    <tr>\n",
       "      <th>2</th>\n",
       "      <td>134</td>\n",
       "      <td>2.5</td>\n",
       "      <td>2.5</td>\n",
       "      <td>96.5</td>\n",
       "      <td>0.0</td>\n",
       "      <td>1</td>\n",
       "      <td>3</td>\n",
       "    </tr>\n",
       "    <tr>\n",
       "      <th>3</th>\n",
       "      <td>72</td>\n",
       "      <td>2.0</td>\n",
       "      <td>2.0</td>\n",
       "      <td>100.0</td>\n",
       "      <td>0.0</td>\n",
       "      <td>1</td>\n",
       "      <td>3</td>\n",
       "    </tr>\n",
       "    <tr>\n",
       "      <th>4</th>\n",
       "      <td>47</td>\n",
       "      <td>2.0</td>\n",
       "      <td>0.0</td>\n",
       "      <td>93.0</td>\n",
       "      <td>6.5</td>\n",
       "      <td>1</td>\n",
       "      <td>3</td>\n",
       "    </tr>\n",
       "  </tbody>\n",
       "</table>\n",
       "</div>"
      ],
      "text/plain": [
       "   cnt  t_real  t_feels_like  humidity  wind_speed  is_weekend  season\n",
       "0  182     3.0           2.0      93.0         6.0           1       3\n",
       "1  138     3.0           2.5      93.0         5.0           1       3\n",
       "2  134     2.5           2.5      96.5         0.0           1       3\n",
       "3   72     2.0           2.0     100.0         0.0           1       3\n",
       "4   47     2.0           0.0      93.0         6.5           1       3"
      ]
     },
     "execution_count": 10,
     "metadata": {},
     "output_type": "execute_result"
    }
   ],
   "source": [
    "df.columns = ['cnt', 't_real', 't_feels_like', 'humidity', 'wind_speed', 'is_weekend', 'season']\n",
    "df.head()"
   ]
  },
  {
   "cell_type": "markdown",
   "metadata": {
    "id": "XF5PPdsVnLi7"
   },
   "source": [
    "<h2 align = left style = \"line-height: 200%; font-family: vazir; color:#0099cc\">\n",
    "<font face = \"vazir\" color = \"#0099cc\">\n",
    "Exploration in Data </font>\n",
    "</h2>\n",
    "\n",
    "<p dir = LTR style = \"Direction: LTR; Text-Align: Justim; Line-Height: 200%; Font-Family: Vazir; Font-Size: Medium\">\n",
    "<font face = \"vazir\" size = 3>\n",
    "To check data first of\n",
    "<code>Describe</code>\n",
    "We use to understand a whole data.\n",
    "</font>\n",
    "</p>"
   ]
  },
  {
   "cell_type": "code",
   "execution_count": 11,
   "metadata": {
    "id": "APOQLdAh7BT3"
   },
   "outputs": [
    {
     "data": {
      "text/html": [
       "<div>\n",
       "<style scoped>\n",
       "    .dataframe tbody tr th:only-of-type {\n",
       "        vertical-align: middle;\n",
       "    }\n",
       "\n",
       "    .dataframe tbody tr th {\n",
       "        vertical-align: top;\n",
       "    }\n",
       "\n",
       "    .dataframe thead th {\n",
       "        text-align: right;\n",
       "    }\n",
       "</style>\n",
       "<table border=\"1\" class=\"dataframe\">\n",
       "  <thead>\n",
       "    <tr style=\"text-align: right;\">\n",
       "      <th></th>\n",
       "      <th>cnt</th>\n",
       "      <th>t_real</th>\n",
       "      <th>t_feels_like</th>\n",
       "      <th>humidity</th>\n",
       "      <th>wind_speed</th>\n",
       "      <th>is_weekend</th>\n",
       "      <th>season</th>\n",
       "    </tr>\n",
       "  </thead>\n",
       "  <tbody>\n",
       "    <tr>\n",
       "      <th>count</th>\n",
       "      <td>17409.000000</td>\n",
       "      <td>17409.000000</td>\n",
       "      <td>17409.000000</td>\n",
       "      <td>17409.000000</td>\n",
       "      <td>17409.000000</td>\n",
       "      <td>17409.000000</td>\n",
       "      <td>17409.000000</td>\n",
       "    </tr>\n",
       "    <tr>\n",
       "      <th>mean</th>\n",
       "      <td>1143.131311</td>\n",
       "      <td>12.469633</td>\n",
       "      <td>11.522622</td>\n",
       "      <td>72.279755</td>\n",
       "      <td>15.914560</td>\n",
       "      <td>0.285485</td>\n",
       "      <td>1.491872</td>\n",
       "    </tr>\n",
       "    <tr>\n",
       "      <th>std</th>\n",
       "      <td>1084.840175</td>\n",
       "      <td>5.570946</td>\n",
       "      <td>6.614235</td>\n",
       "      <td>13.598632</td>\n",
       "      <td>7.895017</td>\n",
       "      <td>0.451658</td>\n",
       "      <td>1.118833</td>\n",
       "    </tr>\n",
       "    <tr>\n",
       "      <th>min</th>\n",
       "      <td>0.000000</td>\n",
       "      <td>-1.500000</td>\n",
       "      <td>-6.000000</td>\n",
       "      <td>20.500000</td>\n",
       "      <td>0.000000</td>\n",
       "      <td>0.000000</td>\n",
       "      <td>0.000000</td>\n",
       "    </tr>\n",
       "    <tr>\n",
       "      <th>25%</th>\n",
       "      <td>257.000000</td>\n",
       "      <td>8.000000</td>\n",
       "      <td>6.000000</td>\n",
       "      <td>64.500000</td>\n",
       "      <td>10.000000</td>\n",
       "      <td>0.000000</td>\n",
       "      <td>0.000000</td>\n",
       "    </tr>\n",
       "    <tr>\n",
       "      <th>50%</th>\n",
       "      <td>844.000000</td>\n",
       "      <td>12.500000</td>\n",
       "      <td>12.500000</td>\n",
       "      <td>72.000000</td>\n",
       "      <td>15.000000</td>\n",
       "      <td>0.000000</td>\n",
       "      <td>1.000000</td>\n",
       "    </tr>\n",
       "    <tr>\n",
       "      <th>75%</th>\n",
       "      <td>1672.000000</td>\n",
       "      <td>16.000000</td>\n",
       "      <td>16.000000</td>\n",
       "      <td>82.000000</td>\n",
       "      <td>20.500000</td>\n",
       "      <td>1.000000</td>\n",
       "      <td>2.000000</td>\n",
       "    </tr>\n",
       "    <tr>\n",
       "      <th>max</th>\n",
       "      <td>7860.000000</td>\n",
       "      <td>34.000000</td>\n",
       "      <td>34.000000</td>\n",
       "      <td>100.000000</td>\n",
       "      <td>56.500000</td>\n",
       "      <td>1.000000</td>\n",
       "      <td>3.000000</td>\n",
       "    </tr>\n",
       "  </tbody>\n",
       "</table>\n",
       "</div>"
      ],
      "text/plain": [
       "                cnt        t_real  t_feels_like      humidity    wind_speed  \\\n",
       "count  17409.000000  17409.000000  17409.000000  17409.000000  17409.000000   \n",
       "mean    1143.131311     12.469633     11.522622     72.279755     15.914560   \n",
       "std     1084.840175      5.570946      6.614235     13.598632      7.895017   \n",
       "min        0.000000     -1.500000     -6.000000     20.500000      0.000000   \n",
       "25%      257.000000      8.000000      6.000000     64.500000     10.000000   \n",
       "50%      844.000000     12.500000     12.500000     72.000000     15.000000   \n",
       "75%     1672.000000     16.000000     16.000000     82.000000     20.500000   \n",
       "max     7860.000000     34.000000     34.000000    100.000000     56.500000   \n",
       "\n",
       "         is_weekend        season  \n",
       "count  17409.000000  17409.000000  \n",
       "mean       0.285485      1.491872  \n",
       "std        0.451658      1.118833  \n",
       "min        0.000000      0.000000  \n",
       "25%        0.000000      0.000000  \n",
       "50%        0.000000      1.000000  \n",
       "75%        1.000000      2.000000  \n",
       "max        1.000000      3.000000  "
      ]
     },
     "execution_count": 11,
     "metadata": {},
     "output_type": "execute_result"
    }
   ],
   "source": [
    "df.describe()"
   ]
  },
  {
   "cell_type": "markdown",
   "metadata": {
    "id": "xrjvmedP9akA"
   },
   "source": [
    "<p dir = LTR style = \"Direction: LTR; Text-Align: Justim; Line-Height: 200%; Font-Family: Vazir; Font-Size: Medium\">\n",
    "<font face = \"vazir\" size = 3>\n",
    "Now using\n",
    "<code> plt.scatter </code>\n",
    "Examine that the connection between\n",
    "<code> t_real </code>\n",
    "And\n",
    "<code> t_feels_Like </code>\n",
    "How is that.\n",
    "</font>\n",
    "</p>"
   ]
  },
  {
   "cell_type": "code",
   "execution_count": 12,
   "metadata": {
    "id": "bCahOZje8Rlf"
   },
   "outputs": [
    {
     "data": {
      "image/png": "[encoded data removed]",
      "text/plain": [
       "<Figure size 640x480 with 1 Axes>"
      ]
     },
     "metadata": {},
     "output_type": "display_data"
    }
   ],
   "source": [
    "from matplotlib  import pyplot as plt\n",
    "\n",
    "plt.scatter(x= df.t_real, y= df.t_feels_like) \n",
    "plt.xlabel(\"Real temperature\")\n",
    "plt.ylabel(\"Temperature feels like\")\n",
    "plt.title(\"relation between real temperature and temperature that feels like. \")\n",
    "plt.savefig('plot1.png')\n",
    "\n",
    "plt.show()"
   ]
  },
  {
   "cell_type": "markdown",
   "metadata": {
    "id": "wHvHG0E79teR"
   },
   "source": [
    "<p dir = LTR style = \"Direction: LTR; Text-Align: Justim; Line-Height: 200%; Font-Family: Vazir; Font-Size: Medium\">\n",
    "<font face = \"vazir\" size = 3>\n",
    "As we are expecting and expecting it, the two are very close to most days.\n",
    "<br>\n",
    "Next, we want to know what the number of rental bike rentals and air temperature are.\n",
    "</font>\n",
    "</p>"
   ]
  },
  {
   "cell_type": "code",
   "execution_count": 13,
   "metadata": {
    "id": "rkznpYNw8cPF"
   },
   "outputs": [
    {
     "data": {
      "image/png": "[encoded data removed]",
      "text/plain": [
       "<Figure size 640x480 with 1 Axes>"
      ]
     },
     "metadata": {},
     "output_type": "display_data"
    }
   ],
   "source": [
    "grouped =  df.groupby('t_feels_like')['cnt'].apply('mean') \n",
    "\n",
    "plt.plot(grouped)\n",
    "plt.title(\"Relation rental bike and air temperature\")\n",
    "plt.savefig('plot2.png')\n",
    "plt.show()"
   ]
  }
 ],
 "metadata": {
  "colab": {
   "provenance": []
  },
  "kernelspec": {
   "display_name": "Python 3 (ipykernel)",
   "language": "python",
   "name": "python3"
  },
  "language_info": {
   "codemirror_mode": {
    "name": "ipython",
    "version": 3
   },
   "file_extension": ".py",
   "mimetype": "text/x-python",
   "name": "python",
   "nbconvert_exporter": "python",
   "pygments_lexer": "ipython3",
   "version": "3.10.9"
  },
  "vscode": {
   "interpreter": {
    "hash": "44e7e1b8fa2096bd5707ed7fd18b1724a2db25f4c565a7673f8b6e7bfc49d25d"
   }
  }
 },
 "nbformat": 4,
 "nbformat_minor": 1
}
